{
 "cells": [
  {
   "cell_type": "markdown",
   "metadata": {},
   "source": [
    "# 第2章：感知机\n",
    "在这一章，用python通过原生代码与scikit-learn库中的感知机模型两种方法实现感知机，数据集采用iris（鸢尾花）数据集。\n",
    "\n",
    "原生代码实现的感知机算法为对偶形式，即算法2.2。"
   ]
  },
  {
   "cell_type": "markdown",
   "metadata": {},
   "source": [
    "### 优化算法——随机梯度下降（Stochastic Gradient Descent, SGD）\n",
    "原始形式下的$w,b$更新方式为：\n",
    "\n",
    "$w = w + \\eta y_ix_i$\n",
    "\n",
    "$b = b + \\eta y_i$\n",
    "\n",
    "当初始值$w_0,b_0$均为0时，对上面更新方式进行修改，设修改n次，则$w,b关于(x_i,y_i)$的增量分别为$a_iy_ix_i和a_iy_i$，这里$a_i=n_i\\eta$。那么我们的$w,b$就可以表示为：\n",
    "\n",
    "$w = \\sum_{i=1}^{N}{a_iy_ix_i}$\n",
    "\n",
    "$b = \\sum_{i=1}^{N}{a_iy_i}$\n",
    "\n",
    "这里，$a_i \\geq 0, i=1,2,...,N$, 当$\\eta = 1$时，$a_i$就表示为第$i$个实例点由于误分类而进行更新的次数。实例点更新次数越多，也就意味着它距离分离超平面越近了。\n",
    "\n",
    "在代码中，不断更新$a_i,b$:\n",
    "\n",
    "$a_i = a_i + \\eta$\n",
    "\n",
    "$b = b + \\eta y_i$\n",
    "\n",
    "求得$a,b$后，我们最终的$w,b$为：\n",
    "\n",
    "$w = a \\cdot x \\cdot y$\n",
    "\n",
    "$b = b$\n",
    "\n",
    "\n",
    "那么我们的感知机模型就变为：\n",
    "\n",
    "dual form model: $f(x) = sign(\\sum_{j=1}^{N}{a_jy_jx_j} \\cdot x+b)$"
   ]
  },
  {
   "cell_type": "markdown",
   "metadata": {},
   "source": [
    "### Code\n",
    "使用iris数据集两个分类的数据，特征为[sepal length, sepal width]。"
   ]
  },
  {
   "cell_type": "code",
   "execution_count": 1,
   "metadata": {},
   "outputs": [],
   "source": [
    "# import packages\n",
    "import pandas as pd\n",
    "import numpy as np\n",
    "import matplotlib.pyplot as plt\n",
    "from sklearn.datasets import load_iris\n",
    "\n",
    "%matplotlib inline"
   ]
  },
  {
   "cell_type": "code",
   "execution_count": 2,
   "metadata": {},
   "outputs": [
    {
     "data": {
      "text/plain": [
       "2    50\n",
       "1    50\n",
       "0    50\n",
       "Name: label, dtype: int64"
      ]
     },
     "execution_count": 2,
     "metadata": {},
     "output_type": "execute_result"
    }
   ],
   "source": [
    "# load iris dataset\n",
    "iris = load_iris()\n",
    "iris_df = pd.DataFrame(iris.data, columns=iris.feature_names)\n",
    "iris_df['label'] = iris.target\n",
    "\n",
    "# reset columns name\n",
    "iris_df.columns = ['sepal length', 'sepal width', 'petal length', 'petal width', 'label']\n",
    "\n",
    "# count the numbel of each category\n",
    "iris_df.label.value_counts()"
   ]
  },
  {
   "cell_type": "code",
   "execution_count": 3,
   "metadata": {},
   "outputs": [],
   "source": [
    "# select the data we are interested in\n",
    "data = np.array(iris_df.iloc[:100, [0, 1, -1]])\n",
    "X, y = data[:, :-1], data[:, -1]\n",
    "\n",
    "# set y to the perceptron label [-1, 1]\n",
    "y = np.array([1 if i == 1 else -1 for i in y])"
   ]
  },
  {
   "cell_type": "code",
   "execution_count": 4,
   "metadata": {},
   "outputs": [
    {
     "data": {
      "text/plain": [
       "<matplotlib.legend.Legend at 0x7f3dc2d3e0f0>"
      ]
     },
     "execution_count": 4,
     "metadata": {},
     "output_type": "execute_result"
    },
    {
     "data": {
      "image/png": "[encoded data removed]",
      "text/plain": [
       "<Figure size 432x288 with 1 Axes>"
      ]
     },
     "metadata": {
      "needs_background": "light"
     },
     "output_type": "display_data"
    }
   ],
   "source": [
    "# visualize the data we have selected\n",
    "plt.scatter(X[:50, 0], X[:50, 1], label='-1')\n",
    "plt.scatter(X[50:100, 0], X[50:100, 1], label='1')\n",
    "plt.xlabel('sepal length')\n",
    "plt.ylabel('sepal width')\n",
    "plt.legend()"
   ]
  },
  {
   "cell_type": "markdown",
   "metadata": {},
   "source": [
    "## Perceptron-dual norm"
   ]
  },
  {
   "cell_type": "code",
   "execution_count": 5,
   "metadata": {},
   "outputs": [],
   "source": [
    "class Model:\n",
    "    def __init__(self):\n",
    "        self.a = np.zeros(data.shape[0], dtype=np.float32)\n",
    "        self.b = 0\n",
    "        self.learning_rate = 1\n",
    "        self.w = 0\n",
    "        \n",
    "    def sign(self, a, y, x_Ganm, b):\n",
    "        z = sum(a * y * x_Ganm) + b\n",
    "        return z\n",
    "    \n",
    "    def sgd(self, X_train, y_train):\n",
    "        is_wrong = True\n",
    "        X_train = np.mat(X_train)\n",
    "        x_Ganm = np.dot(X_train, X_train.T)\n",
    "        train_count = 0\n",
    "        while is_wrong:\n",
    "            wrong_count = 0\n",
    "            train_count += 1\n",
    "            for i in range(len(X_train)):\n",
    "                if y_train[i] * self.sign(self.a, y_train, x_Ganm[:, i], self.b) <=0:\n",
    "                    self.a[i] = self.a[i] + self.learning_rate\n",
    "                    self.b = self.b + self.learning_rate * y_train[i]\n",
    "                    wrong_count += 1\n",
    "            if wrong_count == 0 or train_count >= 1000:\n",
    "                is_wrong = False\n",
    "                self.w = sum(self.a * y_train * X_train)\n",
    "        return 'Dual Norm Perceptron Model!'"
   ]
  },
  {
   "cell_type": "code",
   "execution_count": 6,
   "metadata": {},
   "outputs": [
    {
     "data": {
      "text/plain": [
       "'Dual Norm Perceptron Model!'"
      ]
     },
     "execution_count": 6,
     "metadata": {},
     "output_type": "execute_result"
    }
   ],
   "source": [
    "perceptron = Model()\n",
    "perceptron.sgd(X, y)"
   ]
  },
  {
   "cell_type": "code",
   "execution_count": 7,
   "metadata": {},
   "outputs": [
    {
     "data": {
      "text/plain": [
       "<matplotlib.legend.Legend at 0x7f3dbee7db38>"
      ]
     },
     "execution_count": 7,
     "metadata": {},
     "output_type": "execute_result"
    },
    {
     "data": {
      "image/png": "[encoded data removed]",
      "text/plain": [
       "<Figure size 432x288 with 1 Axes>"
      ]
     },
     "metadata": {
      "needs_background": "light"
     },
     "output_type": "display_data"
    }
   ],
   "source": [
    "# visualize the perceptron we have got\n",
    "x1_points = np.linspace(4, 7, 10)\n",
    "x2_points = -(perceptron.w[:, 0] * x1_points + perceptron.b) / perceptron.w[:, 1]  # w[0] * x1 +w[1] * x2 + b = 0\n",
    "plt.plot(x1_points, x2_points.T)\n",
    "\n",
    "plt.scatter(X[:50, 0], X[:50, 1], label='-1') # scatter: draw a scatter plot\n",
    "plt.scatter(X[50:100, 0], X[50:100, 1], label='1')\n",
    "plt.xlabel('sepal length')\n",
    "plt.ylabel('sepal width')\n",
    "plt.legend()"
   ]
  }
 ],
 "metadata": {
  "kernelspec": {
   "display_name": "Python 3",
   "language": "python",
   "name": "python3"
  },
  "language_info": {
   "codemirror_mode": {
    "name": "ipython",
    "version": 3
   },
   "file_extension": ".py",
   "mimetype": "text/x-python",
   "name": "python",
   "nbconvert_exporter": "python",
   "pygments_lexer": "ipython3",
   "version": "3.6.8"
  }
 },
 "nbformat": 4,
 "nbformat_minor": 2
}
