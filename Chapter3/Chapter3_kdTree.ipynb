{
 "cells": [
  {
   "cell_type": "markdown",
   "metadata": {},
   "source": [
    "# 第3章 kd Tree\n",
    "在本章节主要实现K-dimension tree, 并复现书中例3.2"
   ]
  },
  {
   "cell_type": "markdown",
   "metadata": {},
   "source": [
    "实现kNN算法时，主要考虑如何对训练数据进行快速k近邻搜索，这一点在特征空间维数大及训练数据容量大时尤其重要。\n",
    "\n",
    "kNN算法最简单的实现是线性扫描，但是这种计算是非常耗时的。\n",
    "\n",
    "kd Tree 适用于训练实例数远大于空间维数时的kNN搜索，当空间维数接近于训练实例数时，它的效率会迅速下降，几乎接近线性扫描。"
   ]
  },
  {
   "attachments": {},
   "cell_type": "markdown",
   "metadata": {},
   "source": [
    "### Code\n",
    "kd tree是对数据点在k维空间中划分的一种数据结构。kd tree实际上是一种二叉树。每个结点的内容如下：\n",
    "![kdTree_parameters](kdTree_parameters.png)\n",
    "样本集E由k-d tree的结点的集合表示，每个结点表示一个样本点，dom_elt就是表示该样本点的向量。该样本点根据结点的分割超平面将样本空间分为两个子空间。左子空间中的样本点集合由左子树left表示，右子空间中的样本点集合由右子树right表示。分割超平面是一个通过点dom_elt并且垂直于split所指示的方向轴的平面。举个简单的例子，在二维的情况下，一个样本点可以由二维向量(x,y)表示，其中令x维的序号为0，y维的序号为1。假设一个结点的dom_elt为(7,2) ，split的取值为0，那么分割超面就是x=dom_elt(0)=7，它垂直与x轴且过点(7,2)。"
   ]
  },
  {
   "cell_type": "code",
   "execution_count": 1,
   "metadata": {},
   "outputs": [],
   "source": [
    "# create kd Tree's node\n",
    "class KdNode(object):\n",
    "    def __init__(self, dom_elt, split, left, right):\n",
    "        self.dom_elt = dom_elt\n",
    "        self.split = split\n",
    "        self.left = left\n",
    "        self.right = right\n",
    "        \n",
    "class KdTree(object):\n",
    "    def __init__(self, data):\n",
    "        k = len(data[0])  # the dimension of data\n",
    "        \n",
    "        def CreateNode(split, data_set): #create a kdNode by dividing the dataset by the split dimension\n",
    "            if not data_set:  # the dataset is none\n",
    "                return None\n",
    "            \n",
    "            data_set.sort(key=lambda x:x[split]) #sort the data by dimension that needs to be split\n",
    "            median_pos = len(data_set) // 2    # '//' is the interger division in python\n",
    "            median_value = data_set[median_pos]\n",
    "            split_next = (split +1) % k   # cycle split dimension\n",
    "            \n",
    "            return KdNode(median_value, split, \n",
    "                         CreateNode(split_next, data_set[:median_pos]),  # create left tree\n",
    "                         CreateNode(split_next, data_set[median_pos+1:]))#create right tree\n",
    "        \n",
    "        self.root = CreateNode(0, data)\n",
    "        \n",
    "# Preorder traversal of kd Tree\n",
    "def preorder(root):\n",
    "    print(root.dom_elt)\n",
    "    if root.left:  # the node is not empty\n",
    "        preorder(root.left)\n",
    "    if root.right:\n",
    "        preorder(root.right)"
   ]
  },
  {
   "cell_type": "code",
   "execution_count": 2,
   "metadata": {},
   "outputs": [],
   "source": [
    "# kd tree search\n",
    "from math import sqrt\n",
    "from collections import namedtuple\n",
    "\n",
    "# define a namedtuple, save the nearest coordinate point, closest distance, and number of the nodes visited\n",
    "result = namedtuple(\"Result_tuple\", \"nearest_point nearest_dist nodes_visited\")\n",
    "\n",
    "def find_nearest(tree, point):\n",
    "    k = len(point) # the dimension of data\n",
    "    def travel(kd_node, target, max_dist):\n",
    "        if kd_node is None:\n",
    "            return result([0] * k, float(\"inf\"), 0)   # [0] * 3 ——> [0, 0, 0]\n",
    "        \n",
    "        nodes_visited = 1\n",
    "        \n",
    "        split = kd_node.split\n",
    "        axis = kd_node.dom_elt  # split according to axis dom_elt\n",
    "        \n",
    "        if target[split] <= axis[split]: # if the target point s dimension is smaller than the corresponding value of the split axis\n",
    "                                         # the target is closer to the left subtree\n",
    "            nearer_node = kd_node.left   # the next visit node is the left subtree root\n",
    "            further_node = kd_node.right # record the right subtree\n",
    "        else:\n",
    "            nearer_node = kd_node.right\n",
    "            further_node = kd_node.left\n",
    "            \n",
    "        temp1 = travel(nearer_node, target, max_dist) # traversing to find the area containing the target point\n",
    "        \n",
    "        nearest = temp1.nearest_point  # use this leaf node as the \"current nearest point\"\n",
    "        dist = temp1.nearest_dist   # update the nearest distance\n",
    "        \n",
    "        nodes_visited += temp1.nodes_visited\n",
    "        \n",
    "        if dist < max_dist:   \n",
    "            max_dist = dist   # The nearest point will be in the supersphere with \n",
    "                              # the target point as the center of the sphere and max_dist as the radius.\n",
    "        temp_dist = abs(axis[split] - target[split] )\n",
    "        if max_dist < temp_dist:   # Determine if the supersphere intersects the hyperplane\n",
    "            return result(nearest, dist, nodes_visited) # if they do not intersect ,return directly\n",
    "        \n",
    "        #calculate the Euclidean distance between the target point and the split point\n",
    "        temp_dist = sqrt(sum((p1 - p2)  ** 2 for p1, p2 in zip(axis, target)))\n",
    "        \n",
    "        if temp_dist < dist:  # if nearer, update nearest node、nearest distance、radius of the sphere\n",
    "            nearest = axis\n",
    "            dist = temp_dist\n",
    "            max_dist = dist\n",
    "            \n",
    "        # calculate whether the area corresponding to another child node has a closer point\n",
    "        temp2 = travel(further_node, target, max_dist)\n",
    "        \n",
    "        nodes_visited += temp2.nodes_visited\n",
    "        if temp2.nearest_dist < dist:    # if nearer, update\n",
    "            nearest = temp2.nearest_point\n",
    "            dist = temp2.nearest_dist\n",
    "            \n",
    "        return result(nearest, dist, nodes_visited)\n",
    "    return travel(tree.root, point, float(\"inf\")) # recursive from the root node"
   ]
  },
  {
   "cell_type": "markdown",
   "metadata": {},
   "source": [
    "例3.2"
   ]
  },
  {
   "cell_type": "code",
   "execution_count": 3,
   "metadata": {},
   "outputs": [
    {
     "name": "stdout",
     "output_type": "stream",
     "text": [
      "[7, 2]\n",
      "[5, 4]\n",
      "[2, 3]\n",
      "[4, 7]\n",
      "[9, 6]\n",
      "[8, 1]\n"
     ]
    }
   ],
   "source": [
    "data = [[2, 3], [5, 4], [9, 6], [4, 7], [8, 1], [7, 2]]\n",
    "kd = KdTree(data)\n",
    "preorder(kd.root)"
   ]
  },
  {
   "cell_type": "code",
   "execution_count": 4,
   "metadata": {},
   "outputs": [],
   "source": [
    "from time import clock\n",
    "from random import random\n",
    "\n",
    "# create k-dimensional random vector\n",
    "def random_point(k):\n",
    "    return [random() for _ in range(k)]\n",
    "\n",
    "# create n k-dimension random vectors\n",
    "def random_points(k, n):\n",
    "    return[random_point(k) for _ in range(n)]"
   ]
  },
  {
   "cell_type": "code",
   "execution_count": 5,
   "metadata": {},
   "outputs": [
    {
     "name": "stdout",
     "output_type": "stream",
     "text": [
      "Result_tuple(nearest_point=[2, 3], nearest_dist=1.4142135623730951, nodes_visited=4)\n"
     ]
    }
   ],
   "source": [
    "ret = find_nearest(kd, [3, 4, 5])\n",
    "print(ret)"
   ]
  },
  {
   "cell_type": "code",
   "execution_count": 6,
   "metadata": {},
   "outputs": [
    {
     "name": "stdout",
     "output_type": "stream",
     "text": [
      "time:  4.6178349999999995 s\n",
      "Result_tuple(nearest_point=[0.10099331205659678, 0.5031323363804084, 0.811750046284898], nearest_dist=0.012200892907449641, nodes_visited=50)\n"
     ]
    }
   ],
   "source": [
    "N = 400000\n",
    "t0 = clock()\n",
    "kd2 = KdTree(random_points(3, N)) # creating the kd Tree with 400000 3-dimension sample\n",
    "ret2 = find_nearest(kd2, [0.1, 0.5, 0.8])\n",
    "t1 = clock()\n",
    "\n",
    "print(\"time: \", t1 - t0, \"s\")\n",
    "print(ret2)"
   ]
  }
 ],
 "metadata": {
  "kernelspec": {
   "display_name": "Python 3",
   "language": "python",
   "name": "python3"
  },
  "language_info": {
   "codemirror_mode": {
    "name": "ipython",
    "version": 3
   },
   "file_extension": ".py",
   "mimetype": "text/x-python",
   "name": "python",
   "nbconvert_exporter": "python",
   "pygments_lexer": "ipython3",
   "version": "3.6.8"
  }
 },
 "nbformat": 4,
 "nbformat_minor": 2
}
