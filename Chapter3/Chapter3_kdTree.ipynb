{
 "cells": [
  {
   "cell_type": "markdown",
   "metadata": {},
   "source": [
    "# 第3章 kd Tree\n",
    "在本章节主要实现K-dimension tree, 并复现书中例3.2"
   ]
  },
  {
   "cell_type": "markdown",
   "metadata": {},
   "source": [
    "实现kNN算法时，主要考虑如何对训练数据进行快速k近邻搜索，这一点在特征空间维数大及训练数据容量大时尤其重要。\n",
    "\n",
    "kNN算法最简单的实现是线性扫描，但是这种计算是非常耗时的。\n",
    "\n",
    "kd Tree 适用于训练实例数远大于空间维数时的kNN搜索，当空间维数接近于训练实例数时，它的效率会迅速下降，几乎接近线性扫描。"
   ]
  },
  {
   "attachments": {
    "image.png": {
     "image/png": "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"
    }
   },
   "cell_type": "markdown",
   "metadata": {},
   "source": [
    "### Code\n",
    "kd tree是对数据点在k维空间中划分的一种数据结构。kd tree实际上是一种二叉树。每个结点的内容如下：\n",
    "<img src="https://github.com/QiujieDong/statistical-learning-method/blob/master/Chapter3/kdTree_parameters.png">\n",
    "样本集E由k-d tree的结点的集合表示，每个结点表示一个样本点，dom_elt就是表示该样本点的向量。该样本点根据结点的分割超平面将样本空间分为两个子空间。左子空间中的样本点集合由左子树left表示，右子空间中的样本点集合由右子树right表示。分割超平面是一个通过点dom_elt并且垂直于split所指示的方向轴的平面。举个简单的例子，在二维的情况下，一个样本点可以由二维向量(x,y)表示，其中令x维的序号为0，y维的序号为1。假设一个结点的dom_elt为(7,2) ，split的取值为0，那么分割超面就是x=dom_elt(0)=7，它垂直与x轴且过点(7,2)。"
   ]
  },
  {
   "cell_type": "code",
   "execution_count": 1,
   "metadata": {},
   "outputs": [],
   "source": [
    "# create kd Tree's node\n",
    "class KdNode(object):\n",
    "    def __init__(self, dom_elt, split, left, right):\n",
    "        self.dom_elt = dom_elt\n",
    "        self.split = split\n",
    "        self.left = left\n",
    "        self.right = right\n",
    "        \n",
    "class KdTree(object):\n",
    "    def __init__(self, data):\n",
    "        k = len(data[0])  # the dimension of data\n",
    "        \n",
    "        def CreateNode(split, data_set): #create a kdNode by dividing the dataset by the split dimension\n",
    "            if not data_set:  # the dataset is none\n",
    "                return None\n",
    "            \n",
    "            data_set.sort(key=lambda x:x[split]) #sort the data by dimension that needs to be split\n",
    "            median_pos = len(data_set) // 2    # '//' is the interger division in python\n",
    "            median_value = data_set[median_pos]\n",
    "            split_next = (split +1) % k   # cycle split dimension\n",
    "            \n",
    "            return KdNode(median_value, split, \n",
    "                         CreateNode(split_next, data_set[:median_pos]),  # create left tree\n",
    "                         CreateNode(split_next, data_set[median_pos+1:]))#create right tree\n",
    "        \n",
    "        self.root = CreateNode(0, data)\n",
    "        \n",
    "# Preorder traversal of kd Tree\n",
    "def preorder(root):\n",
    "    print(root.dom_elt)\n",
    "    if root.left:  # the node is not empty\n",
    "        preorder(root.left)\n",
    "    if root.right:\n",
    "        preorder(root.right)"
   ]
  },
  {
   "cell_type": "code",
   "execution_count": 2,
   "metadata": {},
   "outputs": [],
   "source": [
    "# kd tree search\n",
    "from math import sqrt\n",
    "from collections import namedtuple\n",
    "\n",
    "# define a namedtuple, save the nearest coordinate point, closest distance, and number of the nodes visited\n",
    "result = namedtuple(\"Result_tuple\", \"nearest_point nearest_dist nodes_visited\")\n",
    "\n",
    "def find_nearest(tree, point):\n",
    "    k = len(point) # the dimension of data\n",
    "    def travel(kd_node, target, max_dist):\n",
    "        if kd_node is None:\n",
    "            return result([0] * k, float(\"inf\"), 0)   # [0] * 3 ——> [0, 0, 0]\n",
    "        \n",
    "        nodes_visited = 1\n",
    "        \n",
    "        split = kd_node.split\n",
    "        axis = kd_node.dom_elt  # split according to axis dom_elt\n",
    "        \n",
    "        if target[split] <= axis[split]: # if the target point s dimension is smaller than the corresponding value of the split axis\n",
    "                                         # the target is closer to the left subtree\n",
    "            nearer_node = kd_node.left   # the next visit node is the left subtree root\n",
    "            further_node = kd_node.right # record the right subtree\n",
    "        else:\n",
    "            nearer_node = kd_node.right\n",
    "            further_node = kd_node.left\n",
    "            \n",
    "        temp1 = travel(nearer_node, target, max_dist) # traversing to find the area containing the target point\n",
    "        \n",
    "        nearest = temp1.nearest_point  # use this leaf node as the \"current nearest point\"\n",
    "        dist = temp1.nearest_dist   # update the nearest distance\n",
    "        \n",
    "        nodes_visited += temp1.nodes_visited\n",
    "        \n",
    "        if dist < max_dist:   \n",
    "            max_dist = dist   # The nearest point will be in the supersphere with \n",
    "                              # the target point as the center of the sphere and max_dist as the radius.\n",
    "        temp_dist = abs(axis[split] - target[split] )\n",
    "        if max_dist < temp_dist:   # Determine if the supersphere intersects the hyperplane\n",
    "            return result(nearest, dist, nodes_visited) # if they do not intersect ,return directly\n",
    "        \n",
    "        #calculate the Euclidean distance between the target point and the split point\n",
    "        temp_dist = sqrt(sum((p1 - p2)  ** 2 for p1, p2 in zip(axis, target)))\n",
    "        \n",
    "        if temp_dist < dist:  # if nearer, update nearest node、nearest distance、radius of the sphere\n",
    "            nearest = axis\n",
    "            dist = temp_dist\n",
    "            max_dist = dist\n",
    "            \n",
    "        # calculate whether the area corresponding to another child node has a closer point\n",
    "        temp2 = travel(further_node, target, max_dist)\n",
    "        \n",
    "        nodes_visited += temp2.nodes_visited\n",
    "        if temp2.nearest_dist < dist:    # if nearer, update\n",
    "            nearest = temp2.nearest_point\n",
    "            dist = temp2.nearest_dist\n",
    "            \n",
    "        return result(nearest, dist, nodes_visited)\n",
    "    return travel(tree.root, point, float(\"inf\")) # recursive from the root node"
   ]
  },
  {
   "cell_type": "markdown",
   "metadata": {},
   "source": [
    "例3.2"
   ]
  },
  {
   "cell_type": "code",
   "execution_count": 3,
   "metadata": {},
   "outputs": [
    {
     "name": "stdout",
     "output_type": "stream",
     "text": [
      "[7, 2]\n",
      "[5, 4]\n",
      "[2, 3]\n",
      "[4, 7]\n",
      "[9, 6]\n",
      "[8, 1]\n"
     ]
    }
   ],
   "source": [
    "data = [[2, 3], [5, 4], [9, 6], [4, 7], [8, 1], [7, 2]]\n",
    "kd = KdTree(data)\n",
    "preorder(kd.root)"
   ]
  },
  {
   "cell_type": "code",
   "execution_count": 4,
   "metadata": {},
   "outputs": [],
   "source": [
    "from time import clock\n",
    "from random import random\n",
    "\n",
    "# create k-dimensional random vector\n",
    "def random_point(k):\n",
    "    return [random() for _ in range(k)]\n",
    "\n",
    "# create n k-dimension random vectors\n",
    "def random_points(k, n):\n",
    "    return[random_point(k) for _ in range(n)]"
   ]
  },
  {
   "cell_type": "code",
   "execution_count": 5,
   "metadata": {},
   "outputs": [
    {
     "name": "stdout",
     "output_type": "stream",
     "text": [
      "Result_tuple(nearest_point=[2, 3], nearest_dist=1.4142135623730951, nodes_visited=4)\n"
     ]
    }
   ],
   "source": [
    "ret = find_nearest(kd, [3, 4, 5])\n",
    "print(ret)"
   ]
  },
  {
   "cell_type": "code",
   "execution_count": 6,
   "metadata": {},
   "outputs": [
    {
     "name": "stdout",
     "output_type": "stream",
     "text": [
      "time:  4.6178349999999995 s\n",
      "Result_tuple(nearest_point=[0.10099331205659678, 0.5031323363804084, 0.811750046284898], nearest_dist=0.012200892907449641, nodes_visited=50)\n"
     ]
    }
   ],
   "source": [
    "N = 400000\n",
    "t0 = clock()\n",
    "kd2 = KdTree(random_points(3, N)) # creating the kd Tree with 400000 3-dimension sample\n",
    "ret2 = find_nearest(kd2, [0.1, 0.5, 0.8])\n",
    "t1 = clock()\n",
    "\n",
    "print(\"time: \", t1 - t0, \"s\")\n",
    "print(ret2)"
   ]
  }
 ],
 "metadata": {
  "kernelspec": {
   "display_name": "Python 3",
   "language": "python",
   "name": "python3"
  },
  "language_info": {
   "codemirror_mode": {
    "name": "ipython",
    "version": 3
   },
   "file_extension": ".py",
   "mimetype": "text/x-python",
   "name": "python",
   "nbconvert_exporter": "python",
   "pygments_lexer": "ipython3",
   "version": "3.6.8"
  }
 },
 "nbformat": 4,
 "nbformat_minor": 2
}
