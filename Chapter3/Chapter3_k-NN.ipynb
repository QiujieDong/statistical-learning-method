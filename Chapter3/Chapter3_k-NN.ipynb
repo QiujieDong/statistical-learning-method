{
 "cells": [
  {
   "cell_type": "markdown",
   "metadata": {},
   "source": [
    "# 第3章 k-nearest neighbor, k-NN"
   ]
  },
  {
   "cell_type": "markdown",
   "metadata": {},
   "source": [
    "在这一章，用python实现k-NN算法，使用数据集为iris数据集，同时最后调用sklearn的k-NN库函数也进行测试。"
   ]
  },
  {
   "cell_type": "markdown",
   "metadata": {},
   "source": [
    "k-NN三要素：距离度量，k值的选择，分类决策规则决定\n",
    "\n",
    "k-NN使用的距离度量为欧氏距离，使用的分类决策规则决定为多数表决，其k值一般通过采用交叉验证法选取一个比较小的数。"
   ]
  },
  {
   "cell_type": "markdown",
   "metadata": {},
   "source": [
    "### 距离度量：实现书中例3.1\n",
    "在$L_p(x_i,x_j)=\\left(\\sum_{l=1}^{n}{\\left|{x_i^{(l)}-x_j^{(l)}}\\right|^p}\\right)^{\\frac{1}{p}}$距离中：\n",
    "- p = 1: 曼哈顿距离\n",
    "- p = 2: 欧氏距离\n",
    "- p = inf: 闵式距离"
   ]
  },
  {
   "cell_type": "code",
   "execution_count": 1,
   "metadata": {},
   "outputs": [],
   "source": [
    "# import packages\n",
    "import math"
   ]
  },
  {
   "cell_type": "code",
   "execution_count": 2,
   "metadata": {},
   "outputs": [],
   "source": [
    "# Lp distance\n",
    "def Lp_distance(x, y, p=2):\n",
    "    len_x = len(x)\n",
    "    if len_x == len(y) and len_x > 0:\n",
    "        lp = 0\n",
    "        for i in range(len_x):\n",
    "            lp += math.pow(abs(x[i] - y[i]), p)\n",
    "        return math.pow(lp, 1/p)\n",
    "    else:\n",
    "        print('Error!')\n",
    "        return 0"
   ]
  },
  {
   "cell_type": "code",
   "execution_count": 3,
   "metadata": {},
   "outputs": [
    {
     "name": "stdout",
     "output_type": "stream",
     "text": [
      "(4.0, 'When p = 1, the nearest neighbor of x1 is: [5, 1]')\n",
      "(4.0, 'When p = 2, the nearest neighbor of x1 is: [5, 1]')\n",
      "(3.7797631496846193, 'When p = 3, the nearest neighbor of x1 is: [4, 4]')\n",
      "(3.5676213450081633, 'When p = 4, the nearest neighbor of x1 is: [4, 4]')\n"
     ]
    }
   ],
   "source": [
    "# eg.3.1 in the book\n",
    "x1 = [1, 1]\n",
    "x2 = [5, 1]\n",
    "x3 = [4, 4]\n",
    "\n",
    "# for i in range(1, 5):\n",
    "#     r = { '1-{}'.format(c):Lp_distance(x1, c, p=i) for c in [x2, x3]}\n",
    "#     print(min(zip(r.values(), r.keys())))\n",
    "for i in range(1, 5):\n",
    "    distance = {'When p = {}, the nearest neighbor of x1 is: {}'.format(i, d):Lp_distance(x1, d, p=i) for d in [x2, x3]}\n",
    "    print(min(zip(distance.values(), distance.keys()))) # min function compare the first parameter"
   ]
  },
  {
   "cell_type": "markdown",
   "metadata": {},
   "source": [
    "### k-NN\n",
    "下面以iris数据集，实现最基本的k-NN算法（遍历所有数据点）"
   ]
  },
  {
   "cell_type": "code",
   "execution_count": 4,
   "metadata": {},
   "outputs": [],
   "source": [
    "# import packages\n",
    "import numpy as np\n",
    "import pandas as pd\n",
    "import matplotlib.pyplot as plt\n",
    "from sklearn.datasets import load_iris\n",
    "from sklearn.model_selection import train_test_split\n",
    "from collections import Counter\n",
    "\n",
    "%matplotlib inline"
   ]
  },
  {
   "cell_type": "code",
   "execution_count": 5,
   "metadata": {},
   "outputs": [],
   "source": [
    "# load data\n",
    "iris = load_iris()\n",
    "iris_df = pd.DataFrame(iris.data, columns=iris.feature_names)\n",
    "iris_df['label'] = iris.target\n",
    "\n",
    "#reset the columns names\n",
    "iris_df.columns = ['sepal length', 'sepal width', 'petal length', 'petal width', 'label']"
   ]
  },
  {
   "cell_type": "code",
   "execution_count": 6,
   "metadata": {},
   "outputs": [],
   "source": [
    "# select the data we are interested in\n",
    "data = np.array(iris_df.iloc[:100, [0, 1, -1]])\n",
    "X, y = data[:, :-1], data[:, -1]\n",
    "\n",
    "# split data into training and testing\n",
    "X_train, X_test, y_train, y_test = train_test_split(X, y, test_size=0.2)"
   ]
  },
  {
   "cell_type": "markdown",
   "metadata": {},
   "source": [
    "sorted(a, key=lambda x:x[0])\n",
    "\n",
    "sorted 是排序函数，由小到大排序。a是一个由元组组成的列表，我们对其进行操作时用到参数key, 也就是关键词。\n",
    "\n",
    "上面这句命令，lambda是一个隐函数，是固定写法，不要写成别的单词；x表示列表中的一个元素，在这里，表示一个元组，x只是临时起的一个名字，可以使用任意的名字；x[0]表示元组里的第一个元素，当然第二个元素就是x[1]；所以这句命令的意思就是按照列表中第一个元素排序\n",
    "\n",
    "若想实现sorted倒排序，使用参数reverse,即sorted(a, key=lambda x:x[0]， reverse=True)"
   ]
  },
  {
   "cell_type": "code",
   "execution_count": 7,
   "metadata": {},
   "outputs": [],
   "source": [
    "class KNN:\n",
    "    def __init__(self, X_train, y_train, n_neighbors=3, p=2):\n",
    "        self.neighbor = n_neighbors\n",
    "        self.p = p\n",
    "        self.X_train = X_train\n",
    "        self.y_train = y_train\n",
    "        \n",
    "    def predict(self, X):\n",
    "        # First calculate the distance between X and the first n elements in X_train, and as the shortest distance set\n",
    "        knn_list = []\n",
    "        for i in range(self.neighbor):\n",
    "            dist = np.linalg.norm(X - self.X_train[i], ord=self.p) # np.linalg.norm is the Lp norm\n",
    "            knn_list.append((dist, self.y_train[i]))\n",
    "         \n",
    "        # Traversing the entire dataset and finding the distance data with the shortest distance\n",
    "        # Replace the largest distance in the knn_list with the new smaller distance\n",
    "        for i in range(self.neighbor, len(self.X_train)):\n",
    "            max_dist_index = knn_list.index(max(knn_list, key=lambda x:x[0]))\n",
    "            dist = np.linalg.norm(X - self.X_train[i], ord=self.p)\n",
    "            if knn_list[max_dist_index][0] > dist:\n",
    "                knn_list[max_dist_index] = (dist, self.y_train[i])\n",
    "        \n",
    "        # count the number of n nearest neighbors' label \n",
    "        knn_label = [k[-1] for k in knn_list]\n",
    "        count_pairs = Counter(knn_label)\n",
    "\n",
    "        # choose the most number of labels\n",
    "        max_count_label = sorted(count_pairs, key=lambda x:x)[-1]\n",
    "        return max_count_label\n",
    "    \n",
    "    def score(self, X_test, y_test):\n",
    "        right_count = 0\n",
    "        for X, y in zip(X_test, y_test):\n",
    "            x_label = self.predict(X)\n",
    "            if x_label == y:\n",
    "                right_count +=1\n",
    "        return right_count / len(X_test)"
   ]
  },
  {
   "cell_type": "code",
   "execution_count": 8,
   "metadata": {},
   "outputs": [],
   "source": [
    "model = KNN(X_train, y_train)"
   ]
  },
  {
   "cell_type": "code",
   "execution_count": 9,
   "metadata": {},
   "outputs": [
    {
     "data": {
      "text/plain": [
       "1.0"
      ]
     },
     "execution_count": 9,
     "metadata": {},
     "output_type": "execute_result"
    }
   ],
   "source": [
    "model.score(X_test, y_test)"
   ]
  },
  {
   "cell_type": "code",
   "execution_count": 10,
   "metadata": {},
   "outputs": [
    {
     "name": "stdout",
     "output_type": "stream",
     "text": [
      "Test Point Label: 1.0\n"
     ]
    }
   ],
   "source": [
    "test_point = [6.0, 3.0]\n",
    "print('Test Point Label: {}'.format(model.predict(test_point)))"
   ]
  },
  {
   "cell_type": "code",
   "execution_count": 11,
   "metadata": {},
   "outputs": [
    {
     "data": {
      "text/plain": [
       "<matplotlib.legend.Legend at 0x7fee17e967b8>"
      ]
     },
     "execution_count": 11,
     "metadata": {},
     "output_type": "execute_result"
    },
    {
     "data": {
      "image/png": "[encoded data removed]",
      "text/plain": [
       "<Figure size 432x288 with 1 Axes>"
      ]
     },
     "metadata": {
      "needs_background": "light"
     },
     "output_type": "display_data"
    }
   ],
   "source": [
    "# visualization\n",
    "plt.scatter(X[:50, 0], X[:50, 1], label='0')\n",
    "plt.scatter(X[50:100, 0], X[50:100, 1], label='1')\n",
    "plt.plot(test_point[0], test_point[1], 'bx', label='test_point')\n",
    "plt.xlabel('sepal length')\n",
    "plt.ylabel('sepal width')\n",
    "plt.legend()"
   ]
  },
  {
   "cell_type": "markdown",
   "metadata": {},
   "source": [
    "### scikitlearn KNN\n",
    "sklearn.neighbors.KNeighborsClassifier¶\n",
    "- parameters:\n",
    "- n_neighbors: 临近点个数\n",
    "- p: 距离度量\n",
    "- algorithm: 近邻算法，可选{'auto', 'ball_tree', 'kd_tree', 'brute'}\n",
    "- weights: 确定近邻的权重"
   ]
  },
  {
   "cell_type": "code",
   "execution_count": 12,
   "metadata": {},
   "outputs": [],
   "source": [
    "from sklearn.neighbors import KNeighborsClassifier"
   ]
  },
  {
   "cell_type": "code",
   "execution_count": 13,
   "metadata": {},
   "outputs": [
    {
     "data": {
      "text/plain": [
       "KNeighborsClassifier(algorithm='auto', leaf_size=30, metric='minkowski',\n",
       "                     metric_params=None, n_jobs=None, n_neighbors=5, p=2,\n",
       "                     weights='uniform')"
      ]
     },
     "execution_count": 13,
     "metadata": {},
     "output_type": "execute_result"
    }
   ],
   "source": [
    "# Call Library Function\n",
    "clf_knn = KNeighborsClassifier()\n",
    "clf_knn.fit(X_train, y_train)"
   ]
  },
  {
   "cell_type": "code",
   "execution_count": 14,
   "metadata": {},
   "outputs": [
    {
     "data": {
      "text/plain": [
       "1.0"
      ]
     },
     "execution_count": 14,
     "metadata": {},
     "output_type": "execute_result"
    }
   ],
   "source": [
    "clf_knn.score(X_test, y_test)"
   ]
  }
 ],
 "metadata": {
  "kernelspec": {
   "display_name": "Python 3",
   "language": "python",
   "name": "python3"
  },
  "language_info": {
   "codemirror_mode": {
    "name": "ipython",
    "version": 3
   },
   "file_extension": ".py",
   "mimetype": "text/x-python",
   "name": "python",
   "nbconvert_exporter": "python",
   "pygments_lexer": "ipython3",
   "version": "3.6.8"
  }
 },
 "nbformat": 4,
 "nbformat_minor": 2
}
