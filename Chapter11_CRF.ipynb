{
 "cells": [
  {
   "cell_type": "markdown",
   "metadata": {},
   "source": [
    "# 第11章 条件随机场\n",
    "复现例11.1和例11.2"
   ]
  },
  {
   "cell_type": "code",
   "execution_count": 1,
   "metadata": {},
   "outputs": [],
   "source": [
    "import numpy as np"
   ]
  },
  {
   "cell_type": "code",
   "execution_count": 2,
   "metadata": {},
   "outputs": [
    {
     "name": "stdout",
     "output_type": "stream",
     "text": [
      "24.532530197109345\n",
      "24.532530197109352\n"
     ]
    }
   ],
   "source": [
    "#T is the transition matrix column representing the previous y(ij), \n",
    "#the probability of going from state i to state j, and Tx is the matrix x corresponding to the time series\n",
    "\n",
    "#Convert the transition features on the book into three multidimensional lists with the following timeline \n",
    "#as the difference, and the dimensions are the dimensions of the output.\n",
    "\n",
    "T1 = [[0.6,1],[1,0]];T2=[[0,1],[1,0.2]]\n",
    "\n",
    "#Convert the state features on the book into a list, the first being the unplanned probability of y1 and \n",
    "#the second being the unplanned probability of y2\n",
    "\n",
    "S0 = [1,0.5];S1=[0.8,0.5];S2=[0.8,0.5]\n",
    "Y = [1,2,2]  #Mark sequence of non-planned conditional probability\n",
    "Y = np.array(Y)-1  #Corresponding to the index and starting from zero\n",
    "P = np.exp(S0[Y[0]])\n",
    "for i in range(1,len(Y)):\n",
    "    P *= np.exp((eval('S%d' % i)[Y[i]]) + eval('T%d' % i)[Y[i - 1]][Y[i]])\n",
    "print(P)\n",
    "print(np.exp(3.2))"
   ]
  },
  {
   "cell_type": "markdown",
   "metadata": {},
   "source": [
    "## Example 11.2"
   ]
  },
  {
   "cell_type": "code",
   "execution_count": 3,
   "metadata": {},
   "outputs": [
    {
     "name": "stdout",
     "output_type": "stream",
     "text": [
      "非规范化概率 24.532530197109345\n"
     ]
    }
   ],
   "source": [
    "#inspiring from example 11.2, integration into a matrix\n",
    "F0 = S0\n",
    "F1 = T1 + np.array(S1 * len(T1)).reshape(np.shape(T1))\n",
    "F2 = T2 + np.array(S2 * len(T2)).reshape(np.shape(T2))\n",
    "Y = [1,2,2]  #Mark sequence of non-planned conditional probability\n",
    "Y = np.array(Y)-1\n",
    "\n",
    "P = np.exp(F0[Y[0]])\n",
    "Sum = P\n",
    "for i in range(1,len(Y)):\n",
    "    PIter = np.exp((eval('F%d' % i)[Y[i-1]][Y[i]]))\n",
    "    P *= PIter\n",
    "    Sum += PIter\n",
    "print('非规范化概率',P)"
   ]
  }
 ],
 "metadata": {
  "kernelspec": {
   "display_name": "Python 3",
   "language": "python",
   "name": "python3"
  },
  "language_info": {
   "codemirror_mode": {
    "name": "ipython",
    "version": 3
   },
   "file_extension": ".py",
   "mimetype": "text/x-python",
   "name": "python",
   "nbconvert_exporter": "python",
   "pygments_lexer": "ipython3",
   "version": "3.6.8"
  }
 },
 "nbformat": 4,
 "nbformat_minor": 2
}
