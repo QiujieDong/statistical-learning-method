{
 "cells": [
  {
   "cell_type": "markdown",
   "metadata": {},
   "source": [
    "# 第2章：感知机"
   ]
  },
  {
   "cell_type": "markdown",
   "metadata": {},
   "source": [
    "在这一章，用python通过原生代码与scikit-learn库中的感知机模型两种方法实现感知机，数据集采用iris（鸢尾花）数据集。\n",
    "\n",
    "原生代码实现的感知机算法为原始形式，即算法2.1。"
   ]
  },
  {
   "cell_type": "markdown",
   "metadata": {},
   "source": [
    "### 感知机——二分类模型\n",
    "model: $f(x) = sign(w \\cdot x+b)$\n",
    "\n",
    "loss function: $L(w, b) = -\\sum_{x_i \\in M}y_i(w \\cdot x_i+b)$ , 其中$M$为误分类点集合。\n",
    "\n",
    "### 优化算法——随机梯度下降（Stochastic Gradient Descent, SGD）\n",
    "首先任意选取一个超平面，然后用SGD方法不断极小化目标函数，在这个过程中一次随机选取一个误分类点使其梯度下降。假设选取误分类点$(x_i,y_i)$则使用SGD优化得到新的$w, b$：\n",
    "\n",
    "$w = w + \\eta y_ix_i$\n",
    "\n",
    "$b = b + \\eta y_i$\n",
    "\n",
    "直观解释为：当一个实例点被误分类，即位于分离超平面的错误一侧时，则调整$w,b$的值，使分离超平面向该误分类点的一侧移动，以减少该分类点与超平面的距离，直至超平面越过该误分类点使其被正确分类。\n",
    "\n",
    "### 收敛性\n",
    "当训练数据集是线性可分时，感知机学习算法是收敛的。其训练次数k满足: $k \\leq (\\frac{R}{\\gamma})^2$\n",
    "\n",
    "并且，当训练数据集是线性可分时，感知机学习算法存在无穷多个解。会由于初始化或者随机选择的误分类点不同而导致最终的解不同。"
   ]
  },
  {
   "cell_type": "markdown",
   "metadata": {},
   "source": [
    "### Code\n",
    "使用iris数据集两个分类的数据，特征为[sepal length, sepal width]。\n",
    "\n",
    "iris以鸢尾花的特征作为数据来源，常用在分类操作中。该数据集由3种不同类型的鸢尾花各50个样本数据构成。其中的一个种类与另外两个种类是线性可分离的，后两个种类是非线性可分离的。\n",
    "该数据集包含了4个属性：\n",
    "- Sepal.Length（花萼长度），单位是cm;\n",
    "- Sepal.Width（花萼宽度），单位是cm;\n",
    "- Petal.Length（花瓣长度），单位是cm;\n",
    "- Petal.Width（花瓣宽度），单位是cm;\n",
    "- 种类：Iris Setosa（山鸢尾）、Iris Versicolour（杂色鸢尾），以及Iris Virginica（维吉尼亚鸢尾）。"
   ]
  },
  {
   "cell_type": "code",
   "execution_count": 1,
   "metadata": {},
   "outputs": [],
   "source": [
    "# import packages\n",
    "import pandas as pd\n",
    "import numpy as np\n",
    "from sklearn.datasets import load_iris\n",
    "import matplotlib.pyplot as plt\n",
    "\n",
    "%matplotlib inline"
   ]
  },
  {
   "cell_type": "code",
   "execution_count": 2,
   "metadata": {},
   "outputs": [
    {
     "data": {
      "text/plain": [
       "2    50\n",
       "1    50\n",
       "0    50\n",
       "Name: label, dtype: int64"
      ]
     },
     "execution_count": 2,
     "metadata": {},
     "output_type": "execute_result"
    }
   ],
   "source": [
    "# load iris dataset\n",
    "iris = load_iris()\n",
    "iris_df = pd.DataFrame(iris.data, columns=iris.feature_names) # features columns\n",
    "iris_df['label'] = iris.target # add label columns\n",
    "\n",
    "# reset columns name\n",
    "iris_df.columns = ['sepal length', 'sepal width', 'petal length', 'petal width', 'label']\n",
    "\n",
    "# count the numbel of each category\n",
    "iris_df.label.value_counts()"
   ]
  },
  {
   "cell_type": "code",
   "execution_count": 3,
   "metadata": {},
   "outputs": [],
   "source": [
    "# select the data we are interested in\n",
    "data = np.array(iris_df.iloc[:100, [0, 1, -1]]) #select columns 0(sepal length), 1(sepal width), -1(label)\n",
    "X, y = data[:, :-1], data[:, -1]\n",
    "\n",
    "# set y to the perceptron label [1, -1]\n",
    "y = np.array([1 if i == 1 else -1 for i in y])"
   ]
  },
  {
   "cell_type": "code",
   "execution_count": 4,
   "metadata": {},
   "outputs": [
    {
     "data": {
      "text/plain": [
       "<matplotlib.legend.Legend at 0x7fde3d6b3198>"
      ]
     },
     "execution_count": 4,
     "metadata": {},
     "output_type": "execute_result"
    },
    {
     "data": {
      "image/png": "[encoded data removed]",
      "text/plain": [
       "<Figure size 432x288 with 1 Axes>"
      ]
     },
     "metadata": {
      "needs_background": "light"
     },
     "output_type": "display_data"
    }
   ],
   "source": [
    "# visualize the data we have selected\n",
    "plt.scatter(X[:50, 0], X[:50, 1], label='-1') # scatter: draw a scatter plot\n",
    "plt.scatter(X[50:100, 0], X[50:100, 1], label='1')\n",
    "plt.xlabel('sepal length')\n",
    "plt.ylabel('sepal width')\n",
    "plt.legend()"
   ]
  },
  {
   "cell_type": "markdown",
   "metadata": {},
   "source": [
    "## Perceptron\n",
    "二分类，这里设定超平面为一元一次方程。"
   ]
  },
  {
   "cell_type": "code",
   "execution_count": 5,
   "metadata": {},
   "outputs": [],
   "source": [
    "class Model:\n",
    "    def __init__(self):\n",
    "        self.w = np.zeros(data.shape[1]-1, dtype=np.float32)\n",
    "        self.b = 0\n",
    "        self.learning_rate = 0.1\n",
    "        \n",
    "    def sign(self, x, w, b):\n",
    "        y = np.dot(x, w) + b\n",
    "        return y\n",
    "    \n",
    "    # SGD\n",
    "    def sgd(self, X_train, y_train):\n",
    "        is_wrong = True\n",
    "        while is_wrong:\n",
    "            wrong_count = 0\n",
    "            for i in range(len(X_train)):\n",
    "                X = X_train[i]\n",
    "                y = y_train[i]\n",
    "                if y * self.sign(X, self.w, self.b) <= 0:\n",
    "                    self.w = self.w + self.learning_rate * np.dot(y, X)\n",
    "                    self.b = self.b + self.learning_rate * y\n",
    "                    wrong_count += 1\n",
    "            if wrong_count == 0:\n",
    "                is_wrong = False\n",
    "        return 'Perceptron Model!'"
   ]
  },
  {
   "cell_type": "code",
   "execution_count": 6,
   "metadata": {},
   "outputs": [
    {
     "data": {
      "text/plain": [
       "'Perceptron Model!'"
      ]
     },
     "execution_count": 6,
     "metadata": {},
     "output_type": "execute_result"
    }
   ],
   "source": [
    "perceptron = Model()\n",
    "perceptron.sgd(X, y)"
   ]
  },
  {
   "cell_type": "code",
   "execution_count": 7,
   "metadata": {},
   "outputs": [
    {
     "data": {
      "text/plain": [
       "<matplotlib.legend.Legend at 0x7fde397f7f28>"
      ]
     },
     "execution_count": 7,
     "metadata": {},
     "output_type": "execute_result"
    },
    {
     "data": {
      "image/png": "[encoded data removed]",
      "text/plain": [
       "<Figure size 432x288 with 1 Axes>"
      ]
     },
     "metadata": {
      "needs_background": "light"
     },
     "output_type": "display_data"
    }
   ],
   "source": [
    "# visualize the perceptron we have got\n",
    "x1_points = np.linspace(4, 7, 10)\n",
    "x2_points = -(perceptron.w[0] * x1_points + perceptron.b) / perceptron.w[1]  # w[0] * x1 +w[1] * x2 + b = 0\n",
    "plt.plot(x1_points, x2_points)\n",
    "\n",
    "plt.scatter(X[:50, 0], X[:50, 1], label='-1') # scatter: draw a scatter plot\n",
    "plt.scatter(X[50:100, 0], X[50:100, 1], label='1')\n",
    "plt.xlabel('sepal length')\n",
    "plt.ylabel('sepal width')\n",
    "plt.legend()"
   ]
  },
  {
   "cell_type": "markdown",
   "metadata": {},
   "source": [
    "## scikit-learn Perceptron"
   ]
  },
  {
   "cell_type": "code",
   "execution_count": 8,
   "metadata": {},
   "outputs": [],
   "source": [
    "from sklearn.linear_model import Perceptron"
   ]
  },
  {
   "cell_type": "markdown",
   "metadata": {},
   "source": [
    "Perceptron的参数fit_intercept：布尔型，默认为True，若参数值为True时，代表训练模型需要加一个截距项；若参数为False时，代表模型无需加截距项。"
   ]
  },
  {
   "cell_type": "code",
   "execution_count": 9,
   "metadata": {},
   "outputs": [
    {
     "data": {
      "text/plain": [
       "Perceptron(alpha=0.0001, class_weight=None, early_stopping=False, eta0=1.0,\n",
       "           fit_intercept=True, max_iter=1000, n_iter_no_change=5, n_jobs=None,\n",
       "           penalty=None, random_state=0, shuffle=True, tol=0.001,\n",
       "           validation_fraction=0.1, verbose=0, warm_start=False)"
      ]
     },
     "execution_count": 9,
     "metadata": {},
     "output_type": "execute_result"
    }
   ],
   "source": [
    "# Call Library Function\n",
    "clf = Perceptron(fit_intercept=True, max_iter=1000)\n",
    "clf.fit(X, y)"
   ]
  },
  {
   "cell_type": "code",
   "execution_count": 10,
   "metadata": {},
   "outputs": [
    {
     "name": "stdout",
     "output_type": "stream",
     "text": [
      "weights:  [[ 23.2 -38.7]]\n",
      "intercept:  [-5.]\n"
     ]
    }
   ],
   "source": [
    "# weights assigned to the features\n",
    "print('weights: ', clf.coef_)\n",
    "\n",
    "# Constants in decision function.——intercept\n",
    "print('intercept: ', clf.intercept_)"
   ]
  },
  {
   "cell_type": "code",
   "execution_count": 11,
   "metadata": {},
   "outputs": [
    {
     "data": {
      "text/plain": [
       "<matplotlib.legend.Legend at 0x7fde3795a630>"
      ]
     },
     "execution_count": 11,
     "metadata": {},
     "output_type": "execute_result"
    },
    {
     "data": {
      "image/png": "[encoded data removed]",
      "text/plain": [
       "<Figure size 432x288 with 1 Axes>"
      ]
     },
     "metadata": {
      "needs_background": "light"
     },
     "output_type": "display_data"
    }
   ],
   "source": [
    "# visualize the perceptron from sklearn\n",
    "x3_points = np.arange(4, 8)\n",
    "x4_points = -(clf.coef_[0][0] * x3_points + clf.intercept_) / clf.coef_[0][1]  # w[0] * x1 +w[1] * x2 + b = 0\n",
    "plt.plot(x3_points, x4_points)\n",
    "\n",
    "plt.scatter(X[:50, 0], X[:50, 1], label='-1') # scatter: draw a scatter plot\n",
    "plt.scatter(X[50:100, 0], X[50:100, 1], label='1')\n",
    "plt.xlabel('sepal length')\n",
    "plt.ylabel('sepal width')\n",
    "plt.legend()"
   ]
  }
 ],
 "metadata": {
  "kernelspec": {
   "display_name": "Python 3",
   "language": "python",
   "name": "python3"
  },
  "language_info": {
   "codemirror_mode": {
    "name": "ipython",
    "version": 3
   },
   "file_extension": ".py",
   "mimetype": "text/x-python",
   "name": "python",
   "nbconvert_exporter": "python",
   "pygments_lexer": "ipython3",
   "version": "3.6.8"
  }
 },
 "nbformat": 4,
 "nbformat_minor": 2
}
